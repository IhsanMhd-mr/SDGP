{
 "cells": [
  {
   "cell_type": "code",
   "execution_count": null,
   "metadata": {},
   "outputs": [],
   "source": [
    "import tensorflow as tf\n",
    "from tensorflow.keras.preprocessing import image\n",
    "import numpy as np\n",
    "import matplotlib.pyplot as plt\n",
    "from tensorflow.keras.models import load_model\n",
    "\n",
    "import numpy as np\n",
    "import matplotlib.pyplot as plt\n",
    "from tensorflow.keras.preprocessing.image import ImageDataGenerator\n",
    "\n",
    "\n",
    "DATADIR = r\"C:\\Users\\acer\\Downloads\\w1867202\\SDGP\\Dataset\"\n",
    "CATEGORIES = ['Chickenpox','Mild','Monkeypox','Normal','Severe']\n",
    "            \n",
    "img_size = (224, 224)  # Specify the desired image size\n",
    "batch_size = 32  \n",
    "\n",
    "datagen = ImageDataGenerator(\n",
    "    rescale=1.0 / 255.0,\n",
    "    rotation_range=20,\n",
    "    width_shift_range=0.1,\n",
    "    height_shift_range=0.1,\n",
    "    shear_range=0.2,\n",
    "    zoom_range=0.2,\n",
    "    horizontal_flip=True,\n",
    "    fill_mode='nearest'\n",
    ")"
   ]
  },
  {
   "cell_type": "code",
   "execution_count": null,
   "metadata": {},
   "outputs": [],
   "source": [
    "import numpy as np\n",
    "from sklearn.utils.class_weight import compute_class_weight\n",
    "\n",
    "y_train = CATEGORIES\n",
    "\n",
    "# Create a mapping from class labels to integers\n",
    "class_labels = np.unique(y_train)\n",
    "label_to_integer = {label: idx for idx, label in enumerate(class_labels)}\n",
    "\n",
    "# Convert the string labels to integers\n",
    "y_train_int = [label_to_integer[label] for label in y_train]\n",
    "\n",
    "# Calculate the class weights\n",
    "class_weights = compute_class_weight(class_weight = \"balanced\", classes= np.unique(class_labels), y= class_labels)\n",
    "class_weights_dict = dict(zip(np.unique(y_train_int), class_weights))\n"
   ]
  },
  {
   "cell_type": "code",
   "execution_count": null,
   "metadata": {},
   "outputs": [],
   "source": [
    "import tensorflow as tf\n",
    "\n",
    "# Define custom loss function with class weights\n",
    "def weighted_categorical_crossentropy(class_weights):\n",
    "    def loss(y_true, y_pred):\n",
    "        # Convert class weights to float32\n",
    "        class_weights_float32 = tf.cast(class_weights, dtype=tf.float32)\n",
    "\n",
    "        # Calculate the cross-entropy loss for each sample\n",
    "        ind_loss = tf.keras.losses.categorical_crossentropy(y_true, y_pred)\n",
    "\n",
    "        # Apply class weights to the loss for each sample\n",
    "        weights = tf.gather(class_weights_float32, tf.argmax(y_true, axis=1))\n",
    "        weighted_loss = ind_loss * weights\n",
    "\n",
    "        # Return the average loss over all samples\n",
    "        return tf.reduce_mean(weighted_loss)\n",
    "\n",
    "    return loss\n"
   ]
  },
  {
   "cell_type": "code",
   "execution_count": null,
   "metadata": {},
   "outputs": [],
   "source": [
    "from tensorflow.keras.preprocessing import image\n",
    "import numpy as np\n",
    "import matplotlib.pyplot as plt\n",
    "from tensorflow.keras.models import load_model\n",
    "\n",
    "\n",
    "CATEGORIES = ['Chickenpox', 'Mild', 'Monkeypox', 'Normal', 'Severe']\n",
    "IMG_SIZE = 224\n",
    "\n",
    "# Load and preprocess the image\n",
    "img = image.load_img(r\"C:\\Users\\acer\\Downloads\\w1867202\\SDGP\\test\\Monkeypox\\Monkeypox3.png\", target_size=(IMG_SIZE, IMG_SIZE))\n",
    "img = image.img_to_array(img)\n",
    "img = np.expand_dims(img, axis=0)\n",
    "img = img.astype('float32') / 255.0\n",
    "\n",
    "# Load the pre-trained model\n",
    "with tf.keras.utils.custom_object_scope({\"loss\": weighted_categorical_crossentropy}):\n",
    "    model = load_model('saved_model.h5')\n",
    "\n",
    "# Get the prediction\n",
    "predicted_img = model.predict(img)\n",
    "index_predicted_img = np.argmax(predicted_img)\n",
    "predict = CATEGORIES[index_predicted_img]\n",
    "print(predict)"
   ]
  },
  {
   "cell_type": "code",
   "execution_count": null,
   "metadata": {},
   "outputs": [],
   "source": []
  }
 ],
 "metadata": {
  "kernelspec": {
   "display_name": "sdgp",
   "language": "python",
   "name": "python3"
  },
  "language_info": {
   "codemirror_mode": {
    "name": "ipython",
    "version": 3
   },
   "file_extension": ".py",
   "mimetype": "text/x-python",
   "name": "python",
   "nbconvert_exporter": "python",
   "pygments_lexer": "ipython3",
   "version": "3.10.11"
  },
  "orig_nbformat": 4
 },
 "nbformat": 4,
 "nbformat_minor": 2
}
