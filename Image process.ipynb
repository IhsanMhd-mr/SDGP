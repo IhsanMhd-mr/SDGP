{
 "cells": [
  {
   "cell_type": "code",
   "execution_count": 123,
   "id": "efa4a7bd",
   "metadata": {},
   "outputs": [],
   "source": [
    "import numpy as np\n",
    "import matplotlib.pyplot as plt\n",
    "import os\n",
    "import cv2\n",
    "from tqdm import tqdm\n",
    "\n",
    "DATADIR = r\"C:\\Users\\acer\\Downloads\\w1867202\\SDGP\\Dataset\"\n",
    "CATEGORIES = ['Chickenpox','Mild','Monkeypox','Normal','Severe']\n",
    "            "
   ]
  },
  {
   "cell_type": "code",
   "execution_count": null,
   "id": "70eb55e0",
   "metadata": {
    "scrolled": true
   },
   "outputs": [],
   "source": [
    "\n"
   ]
  },
  {
   "cell_type": "code",
   "execution_count": 124,
   "id": "85e5eec0",
   "metadata": {},
   "outputs": [],
   "source": [
    "#VGG16 model \n",
    "import keras,os\n",
    "from keras.models import Sequential\n",
    "from keras.layers import Input,Dense, Conv2D, MaxPool2D , Flatten\n",
    "from keras.preprocessing.image import ImageDataGenerator\n",
    "\n",
    "from tensorflow.keras.layers import Input,Flatten,Dense\n",
    "from tensorflow.keras.models import Model\n",
    "from tensorflow.keras.applications.vgg16 import VGG16\n",
    "from tensorflow.keras.models import Sequential\n",
    "from glob import glob"
   ]
  },
  {
   "cell_type": "code",
   "execution_count": 125,
   "id": "c2737840",
   "metadata": {},
   "outputs": [
    {
     "name": "stdout",
     "output_type": "stream",
     "text": [
      "Found 1328 images belonging to 5 classes.\n",
      "Found 32 images belonging to 5 classes.\n"
     ]
    }
   ],
   "source": [
    "trdata = ImageDataGenerator()\n",
    "# traindata = training_data\n",
    "traindata = trdata.flow_from_directory(directory=\"Dataset\",target_size=(224,224))\n",
    "\n",
    "tsdata = ImageDataGenerator()\n",
    "testdata = tsdata.flow_from_directory(directory=\"test\", target_size=(224,224))\n"
   ]
  },
  {
   "cell_type": "code",
   "execution_count": 126,
   "id": "78b5797c",
   "metadata": {},
   "outputs": [],
   "source": [
    "IMAGE_SIZE=[224,224]\n",
    "vgg=VGG16(input_shape=IMAGE_SIZE+[3],weights='imagenet',include_top=False)"
   ]
  },
  {
   "cell_type": "code",
   "execution_count": 127,
   "id": "d8af6892",
   "metadata": {},
   "outputs": [
    {
     "name": "stdout",
     "output_type": "stream",
     "text": [
      "5\n"
     ]
    }
   ],
   "source": [
    "folders=glob(r\"C:\\Users\\acer\\Downloads\\w1867202\\SDGP\\Dataset\\*\")\n",
    "print(len(folders))"
   ]
  },
  {
   "cell_type": "code",
   "execution_count": null,
   "id": "b8501de0",
   "metadata": {},
   "outputs": [],
   "source": []
  },
  {
   "cell_type": "code",
   "execution_count": 128,
   "id": "a330a1cd",
   "metadata": {},
   "outputs": [
    {
     "name": "stdout",
     "output_type": "stream",
     "text": [
      "Model: \"model_5\"\n",
      "_________________________________________________________________\n",
      " Layer (type)                Output Shape              Param #   \n",
      "=================================================================\n",
      " input_6 (InputLayer)        [(None, 224, 224, 3)]     0         \n",
      "                                                                 \n",
      " block1_conv1 (Conv2D)       (None, 224, 224, 64)      1792      \n",
      "                                                                 \n",
      " block1_conv2 (Conv2D)       (None, 224, 224, 64)      36928     \n",
      "                                                                 \n",
      " block1_pool (MaxPooling2D)  (None, 112, 112, 64)      0         \n",
      "                                                                 \n",
      " block2_conv1 (Conv2D)       (None, 112, 112, 128)     73856     \n",
      "                                                                 \n",
      " block2_conv2 (Conv2D)       (None, 112, 112, 128)     147584    \n",
      "                                                                 \n",
      " block2_pool (MaxPooling2D)  (None, 56, 56, 128)       0         \n",
      "                                                                 \n",
      " block3_conv1 (Conv2D)       (None, 56, 56, 256)       295168    \n",
      "                                                                 \n",
      " block3_conv2 (Conv2D)       (None, 56, 56, 256)       590080    \n",
      "                                                                 \n",
      " block3_conv3 (Conv2D)       (None, 56, 56, 256)       590080    \n",
      "                                                                 \n",
      " block3_pool (MaxPooling2D)  (None, 28, 28, 256)       0         \n",
      "                                                                 \n",
      " block4_conv1 (Conv2D)       (None, 28, 28, 512)       1180160   \n",
      "                                                                 \n",
      " block4_conv2 (Conv2D)       (None, 28, 28, 512)       2359808   \n",
      "                                                                 \n",
      " block4_conv3 (Conv2D)       (None, 28, 28, 512)       2359808   \n",
      "                                                                 \n",
      " block4_pool (MaxPooling2D)  (None, 14, 14, 512)       0         \n",
      "                                                                 \n",
      " block5_conv1 (Conv2D)       (None, 14, 14, 512)       2359808   \n",
      "                                                                 \n",
      " block5_conv2 (Conv2D)       (None, 14, 14, 512)       2359808   \n",
      "                                                                 \n",
      " block5_conv3 (Conv2D)       (None, 14, 14, 512)       2359808   \n",
      "                                                                 \n",
      " block5_pool (MaxPooling2D)  (None, 7, 7, 512)         0         \n",
      "                                                                 \n",
      " flatten_10 (Flatten)        (None, 25088)             0         \n",
      "                                                                 \n",
      " dense_20 (Dense)            (None, 5)                 125445    \n",
      "                                                                 \n",
      "=================================================================\n",
      "Total params: 14,840,133\n",
      "Trainable params: 14,840,133\n",
      "Non-trainable params: 0\n",
      "_________________________________________________________________\n"
     ]
    }
   ],
   "source": [
    "x=Flatten()(vgg.output)\n",
    "prediction=Dense(len(folders),activation='softmax')(x)\n",
    "model=Model(inputs=vgg.input,outputs=prediction)\n",
    "model.summary()"
   ]
  },
  {
   "cell_type": "code",
   "execution_count": null,
   "id": "176b4cb0",
   "metadata": {},
   "outputs": [],
   "source": []
  },
  {
   "cell_type": "code",
   "execution_count": 129,
   "id": "89b0d61e",
   "metadata": {},
   "outputs": [],
   "source": [
    "for layer in vgg.layers:\n",
    "    layer.trainable=False\n"
   ]
  },
  {
   "cell_type": "code",
   "execution_count": null,
   "id": "cb2ebdf0",
   "metadata": {},
   "outputs": [],
   "source": []
  },
  {
   "cell_type": "code",
   "execution_count": 130,
   "id": "7f4c75ce",
   "metadata": {},
   "outputs": [],
   "source": [
    "\n",
    "#import ADAM optimizer\n",
    "from keras.optimizers import Adam\n",
    "opt = Adam(lr=0.001)\n",
    "model.compile(optimizer=opt, loss=keras.losses.categorical_crossentropy, metrics=['accuracy'])\n"
   ]
  },
  {
   "cell_type": "code",
   "execution_count": 131,
   "id": "ff3de55c",
   "metadata": {},
   "outputs": [
    {
     "name": "stdout",
     "output_type": "stream",
     "text": [
      "Epoch 1/10\n",
      "42/42 [==============================] - 425s 10s/step - loss: 7.8286 - accuracy: 0.7206 - val_loss: 0.4173 - val_accuracy: 0.9688\n",
      "Epoch 2/10\n",
      "42/42 [==============================] - 413s 10s/step - loss: 1.7658 - accuracy: 0.9247 - val_loss: 1.1415 - val_accuracy: 0.9375\n",
      "Epoch 3/10\n",
      "42/42 [==============================] - 423s 10s/step - loss: 0.7717 - accuracy: 0.9639 - val_loss: 1.4901e-08 - val_accuracy: 1.0000\n",
      "Epoch 4/10\n",
      "42/42 [==============================] - 415s 10s/step - loss: 0.2938 - accuracy: 0.9812 - val_loss: 0.1010 - val_accuracy: 0.9688\n",
      "Epoch 5/10\n",
      "42/42 [==============================] - 418s 10s/step - loss: 0.1083 - accuracy: 0.9880 - val_loss: 1.8700e-06 - val_accuracy: 1.0000\n",
      "Epoch 6/10\n",
      "42/42 [==============================] - 415s 10s/step - loss: 0.1125 - accuracy: 0.9917 - val_loss: 1.7136e-06 - val_accuracy: 1.0000\n",
      "Epoch 7/10\n",
      "42/42 [==============================] - 413s 10s/step - loss: 0.0528 - accuracy: 0.9932 - val_loss: 0.0000e+00 - val_accuracy: 1.0000\n",
      "Epoch 8/10\n",
      "42/42 [==============================] - 414s 10s/step - loss: 0.0230 - accuracy: 0.9947 - val_loss: 1.6391e-07 - val_accuracy: 1.0000\n",
      "Epoch 9/10\n",
      "42/42 [==============================] - 415s 10s/step - loss: 0.0456 - accuracy: 0.9962 - val_loss: 0.0000e+00 - val_accuracy: 1.0000\n",
      "Epoch 10/10\n",
      "42/42 [==============================] - 413s 10s/step - loss: 0.0311 - accuracy: 0.9977 - val_loss: 0.0000e+00 - val_accuracy: 1.0000\n"
     ]
    }
   ],
   "source": [
    "# Train ML model\n",
    "\n",
    "trained_Model=model.fit(traindata,\n",
    "                  steps_per_epoch=len(traindata),\n",
    "                  epochs=10,\n",
    "                  validation_data=testdata,\n",
    "                  validation_steps=len(testdata)\n",
    "                 )"
   ]
  },
  {
   "cell_type": "code",
   "execution_count": 188,
   "id": "639154eb",
   "metadata": {},
   "outputs": [],
   "source": [
    "# Save the trained model\n",
    "model.save('saved_model.h5')"
   ]
  },
  {
   "cell_type": "code",
   "execution_count": null,
   "id": "b59e8015",
   "metadata": {},
   "outputs": [],
   "source": []
  },
  {
   "cell_type": "code",
   "execution_count": 202,
   "id": "b6a282cb",
   "metadata": {},
   "outputs": [
    {
     "name": "stdout",
     "output_type": "stream",
     "text": [
      "1/1 [==============================] - 0s 464ms/step\n",
      "Monkeypox\n"
     ]
    }
   ],
   "source": [
    "from tensorflow.keras.preprocessing import image\n",
    "import numpy as np\n",
    "import matplotlib.pyplot as plt\n",
    "from tensorflow.keras.models import load_model\n",
    "\n",
    "\n",
    "CATEGORIES = ['Chickenpox', 'Mild', 'Monkeypox', 'Normal', 'Severe']\n",
    "IMG_SIZE = 224\n",
    "\n",
    "# Load and preprocess the image\n",
    "img = image.load_img(r\"C:\\Users\\acer\\Downloads\\w1867202\\SDGP\\test\\Monkeypox\\Monkeypox3.png\", target_size=(IMG_SIZE, IMG_SIZE))\n",
    "img = image.img_to_array(img)\n",
    "img = np.expand_dims(img, axis=0)\n",
    "img = img.astype('float32') / 255.0\n",
    "\n",
    "# Load the pre-trained model\n",
    "model = load_model('saved_model.h5')\n",
    "\n",
    "# Get the prediction\n",
    "predicted_img = model.predict(img)\n",
    "index_predicted_img = np.argmax(predicted_img)\n",
    "print(CATEGORIES[index_predicted_img])"
   ]
  },
  {
   "cell_type": "code",
   "execution_count": null,
   "id": "9afe7be5",
   "metadata": {},
   "outputs": [],
   "source": []
  },
  {
   "cell_type": "code",
   "execution_count": 193,
   "id": "d1d9bb55",
   "metadata": {},
   "outputs": [],
   "source": [
    "# >>> not needed\n",
    "\n",
    "\n",
    "# from tensorflow.keras.callbacks import ModelCheckpoint, EarlyStopping\n",
    "# from tensorflow.keras.preprocessing.image import ImageDataGenerator\n",
    "\n",
    "# # Get the prettrained model\n",
    "# model = load_model('saved_model.h5')\n",
    "\n",
    "# # Create an ImageDataGenerator for data augmentation and validation data\n",
    "# datagen = ImageDataGenerator(rescale=1.0/255.0)\n",
    "\n",
    "# # Flow validation data from directory (replace 'path_to_validation_data' with the actual directory)\n",
    "# validation_generator = testdata\n",
    "\n",
    "# # Create callbacks\n",
    "# checkpoint = ModelCheckpoint(\"vgg16_1.h5\", monitor='val_acc', verbose=1, save_best_only=True, save_weights_only=False, mode='auto', save_freq=1)\n",
    "# early = EarlyStopping(monitor='val_acc', min_delta=0, patience=20, verbose=1, mode='auto')\n",
    "\n",
    "# # Train the model with validation data\n",
    "\n",
    "# trained_Model=model.fit(\n",
    "#                   traindata,\n",
    "#                   steps_per_epoch=len(traindata),\n",
    "#                   epochs=10,\n",
    "#                   validation_data=testdata,\n",
    "#                   validation_steps=len(testdata),\n",
    "#                   callbacks=[checkpoint, early]\n",
    "# )\n"
   ]
  }
 ],
 "metadata": {
  "kernelspec": {
   "display_name": "Python 3 (ipykernel)",
   "language": "python",
   "name": "python3"
  },
  "language_info": {
   "codemirror_mode": {
    "name": "ipython",
    "version": 3
   },
   "file_extension": ".py",
   "mimetype": "text/x-python",
   "name": "python",
   "nbconvert_exporter": "python",
   "pygments_lexer": "ipython3",
   "version": "3.10.11"
  }
 },
 "nbformat": 4,
 "nbformat_minor": 5
}
